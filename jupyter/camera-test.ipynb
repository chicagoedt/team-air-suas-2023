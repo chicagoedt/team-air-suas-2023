{
 "cells": [
  {
   "cell_type": "code",
   "execution_count": 1,
   "id": "2fa45254-3230-4e1b-816b-6f2b0a39557f",
   "metadata": {},
   "outputs": [],
   "source": [
    "import matplotlib.pyplot as plt\n",
    "import cv2\n",
    "import numpy as np\n",
    "from IPython.display import display, Image\n",
    "import ipywidgets as widgets\n",
    "import threading"
   ]
  },
  {
   "cell_type": "markdown",
   "id": "161b8718-3a0d-4f3d-b219-eb92484e35a6",
   "metadata": {},
   "source": [
    "Open camera, check if it is opened (required step), read the image, then write to test.jpg.\n",
    "You have to release the camera device."
   ]
  },
  {
   "cell_type": "code",
   "execution_count": 14,
   "id": "206c3539-3d91-4b01-aa04-6ab6df3cfd3c",
   "metadata": {},
   "outputs": [],
   "source": [
    "cap = cv2.VideoCapture(\"/dev/video0\")\n",
    "\n",
    "cap.set(3, 640)  # Set horizontal resolution\n",
    "cap.set(4, 480)  # Set vertical resolution\n",
    "\n",
    "if cap.isOpened():\n",
    "    _, image = cap.read()\n",
    "    cv2.imwrite(\"test.jpg\", image)\n",
    "\n",
    "cap.release()"
   ]
  },
  {
   "cell_type": "code",
   "execution_count": 15,
   "id": "ea90ba43-63f9-4f67-8d25-a87b9636b6bb",
   "metadata": {},
   "outputs": [],
   "source": [
    "cap.release()"
   ]
  },
  {
   "cell_type": "code",
   "execution_count": 16,
   "id": "94b51cd7-c1b0-4b04-ae3d-a524ac893f82",
   "metadata": {},
   "outputs": [
    {
     "data": {
      "application/vnd.jupyter.widget-view+json": {
       "model_id": "f51a45308a0f4884aa545227b89e6855",
       "version_major": 2,
       "version_minor": 0
      },
      "text/plain": [
       "ToggleButton(value=False, button_style='danger', description='Stop', icon='square', tooltip='Description')"
      ]
     },
     "metadata": {},
     "output_type": "display_data"
    }
   ],
   "source": [
    "# Stop button\n",
    "# ================\n",
    "stopButton = widgets.ToggleButton(\n",
    "    value=False,\n",
    "    description='Stop',\n",
    "    disabled=False,\n",
    "    button_style='danger', # 'success', 'info', 'warning', 'danger' or ''\n",
    "    tooltip='Description',\n",
    "    icon='square' # (FontAwesome names without the `fa-` prefix)\n",
    ")\n",
    "\n",
    "# Display function\n",
    "# ================\n",
    "def view(button):\n",
    "    cap = cv2.VideoCapture(\"/dev/video0\")\n",
    "    cam.isOpened()\n",
    "    display_handle=display(None, display_id=True)\n",
    "    # i = 0\n",
    "    while True:\n",
    "        ret, frame = cap.read()\n",
    "        # frame = cv2.flip(frame, 1) # if your camera reverses your image\n",
    "        _, frame = cv2.imencode('.jpg', frame)\n",
    "        display_handle.update(Image(data=frame.tobytes()))\n",
    "        if stopButton.value==True:\n",
    "            cap.release()\n",
    "            display_handle.update(None)\n",
    "\n",
    "# Run\n",
    "# ================\n",
    "display(stopButton)\n",
    "thread = threading.Thread(target=view, args=(stopButton,))\n",
    "thread.start()"
   ]
  },
  {
   "cell_type": "code",
   "execution_count": null,
   "id": "d2ad457b-9945-41d7-a7cc-289d293dd03e",
   "metadata": {},
   "outputs": [],
   "source": []
  }
 ],
 "metadata": {
  "kernelspec": {
   "display_name": "Python 3 (ipykernel)",
   "language": "python",
   "name": "python3"
  },
  "language_info": {
   "codemirror_mode": {
    "name": "ipython",
    "version": 3
   },
   "file_extension": ".py",
   "mimetype": "text/x-python",
   "name": "python",
   "nbconvert_exporter": "python",
   "pygments_lexer": "ipython3",
   "version": "3.9.2"
  }
 },
 "nbformat": 4,
 "nbformat_minor": 5
}
