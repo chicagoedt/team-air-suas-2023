{
 "cells": [
  {
   "cell_type": "code",
   "execution_count": 1,
   "id": "3ff27a59-8970-43be-9499-8300c6841904",
   "metadata": {
    "pycharm": {
     "name": "#%%\n"
    }
   },
   "outputs": [],
   "source": [
    "from PIL import Image, ImageDraw, ImageOps\n",
    "import math\n",
    "from pain import gen_valid_cam\n",
    "import numpy as np\n",
    "import random\n",
    "from PIL import ImageTransform\n",
    "from shapely.geometry import Point\n",
    "from shapely.geometry.polygon import Polygon\n",
    "from shapely import affinity\n",
    "import matplotlib.pyplot as plt\n",
    "import os"
   ]
  },
  {
   "cell_type": "code",
   "execution_count": 2,
   "id": "3ab1140b-38e6-4d69-9b4c-8e52c362467f",
   "metadata": {
    "pycharm": {
     "name": "#%%\n"
    }
   },
   "outputs": [],
   "source": [
    "img = Image.open(\"target_images/cross,Blue,Q,Yellow.png\")\n",
    "img\n",
    "bgd_img = Image.open(\"master_background.png\")"
   ]
  },
  {
   "cell_type": "code",
   "execution_count": 3,
   "outputs": [
    {
     "name": "stdout",
     "output_type": "stream",
     "text": [
      "283\n",
      "59\n",
      "16\n",
      "182\n",
      "pog\n",
      "<shapely.coords.CoordinateSequence object at 0x000001EBA7720610>\n",
      "<shapely.coords.CoordinateSequence object at 0x000001EBA7720610>\n",
      "182\n"
     ]
    }
   ],
   "source": [
    "cam, intersection, bgd, rot = gen_valid_cam()\n",
    "print(rot)"
   ],
   "metadata": {
    "collapsed": false,
    "pycharm": {
     "name": "#%%\n"
    }
   }
  },
  {
   "cell_type": "code",
   "execution_count": 4,
   "outputs": [
    {
     "data": {
      "text/plain": "<Figure size 432x288 with 1 Axes>",
      "image/png": "[encoded data removed]"
     },
     "metadata": {
      "needs_background": "light"
     },
     "output_type": "display_data"
    }
   ],
   "source": [
    "\n",
    "plt.plot(*cam.exterior.xy)\n",
    "plt.plot(*intersection.exterior.xy)\n",
    "plt.plot(*bgd.exterior.xy)\n",
    "\n",
    "test = bgd_img.transform((4032,3040),ImageTransform.QuadTransform(np.ravel(cam.exterior.coords)))\n",
    "test.show()"
   ],
   "metadata": {
    "collapsed": false,
    "pycharm": {
     "name": "#%%\n"
    }
   }
  },
  {
   "cell_type": "code",
   "execution_count": 5,
   "outputs": [
    {
     "data": {
      "text/plain": "[<matplotlib.lines.Line2D at 0x1ebb7b62680>]"
     },
     "execution_count": 5,
     "metadata": {},
     "output_type": "execute_result"
    },
    {
     "data": {
      "text/plain": "<Figure size 432x288 with 1 Axes>",
      "image/png": "[encoded data removed]"
     },
     "metadata": {
      "needs_background": "light"
     },
     "output_type": "display_data"
    }
   ],
   "source": [
    "# Translation\n",
    "dx = -1 * cam.exterior.coords[0][0]\n",
    "dy = -1 * cam.exterior.coords[0][1]\n",
    "\n",
    "# Rotation\n",
    "cos_theta = np.cos(np.deg2rad(rot-90))\n",
    "sin_theta = np.sin(np.deg2rad(rot-90))\n",
    "\n",
    "# Create the 6-tuple for the affine transform\n",
    "affine_tuple = (cos_theta, -sin_theta, dx, sin_theta, cos_theta, dy)\n",
    "\n",
    "# Apply the affine transform\n",
    "intersection = affinity.affine_transform(intersection, affine_tuple)\n",
    "cam = affinity.affine_transform(cam, affine_tuple)\n",
    "\n",
    "# intersection = affinity.translate(intersection,yoff=-1*cam.exterior.coords[1][1])\n",
    "# cam = affinity.translate(cam,yoff=-1*cam.exterior.coords[1][1])\n",
    "\n",
    "# cam = affinity.translate(cam,-1*cam.exterior.coords[0][0],-1*cam.exterior.coords[0][1])\n",
    "\n",
    "plt.plot(*cam.exterior.xy)\n",
    "plt.plot(*intersection.exterior.xy)\n",
    "plt.plot(*bgd.exterior.xy)"
   ],
   "metadata": {
    "collapsed": false,
    "pycharm": {
     "name": "#%%\n"
    }
   }
  },
  {
   "cell_type": "markdown",
   "source": [],
   "metadata": {
    "collapsed": false,
    "pycharm": {
     "name": "#%% md\n"
    }
   }
  },
  {
   "cell_type": "code",
   "execution_count": 19,
   "outputs": [
    {
     "name": "stdout",
     "output_type": "stream",
     "text": [
      "(0.0, 0.0) (0.0, -4032.0) (3040.0, -4032.0) (3040.0, 0.0) (0.0, 0.0)\n"
     ]
    }
   ],
   "source": [
    "print(*cam.exterior.coords)"
   ],
   "metadata": {
    "collapsed": false,
    "pycharm": {
     "name": "#%%\n"
    }
   }
  },
  {
   "cell_type": "code",
   "execution_count": null,
   "id": "159f70db-2708-4b77-8d4d-d0ee0b0ab395",
   "metadata": {
    "pycharm": {
     "name": "#%%\n"
    }
   },
   "outputs": [],
   "source": [
    "valid_bbox = False\n",
    "fnl_bbox = []\n",
    "while valid_bbox == False:\n",
    "    rot_bbox = random.randint(0, 359)\n",
    "    rot_bbox_tht = math.radians(rot_bbox)\n",
    "    print(rot_bbox)\n",
    "    minx, miny, maxx, maxy = intersection.bounds\n",
    "    corner_bbox = Point(random.uniform(minx, maxx), random.uniform(miny, maxy))\n",
    "    while not intersection.contains(corner_bbox):\n",
    "        corner_bbox = Point(random.uniform(minx, maxx), random.uniform(miny, maxy))\n",
    "    print(corner_bbox)\n",
    "    box = [[0, 0], [24, 0], [24, 36], [0, 36]]\n",
    "    rot_bbox_arr = [[math.cos(rot_bbox_tht), -1 * math.sin(rot_bbox_tht)], [math.sin(rot_bbox_tht), math.cos(rot_bbox_tht)]]\n",
    "    rot_bbox_box = np.dot(box, rot_bbox_arr)\n",
    "    fnl_bbox = []\n",
    "    for i in range(len(box)):\n",
    "            print(rot_bbox_box[i])\n",
    "            # print(corner_bbox.x)\n",
    "            coord_bbox = np.add(rot_bbox_box[i], [corner_bbox.x, corner_bbox.y])\n",
    "            print(coord_bbox)\n",
    "            fnl_bbox.append(list(coord_bbox))\n",
    "    print(fnl_bbox)\n",
    "    poly_bbox = Polygon(fnl_bbox)\n",
    "    if poly_bbox.within(intersection):\n",
    "        valid_bbox = True\n",
    "        print(\"pog\")\n",
    "    else:\n",
    "        valid_bbox = False\n",
    "print(poly_bbox)"
   ]
  },
  {
   "cell_type": "code",
   "execution_count": 11,
   "id": "9a59d995-c753-4914-a346-5801f69bfa07",
   "metadata": {
    "pycharm": {
     "name": "#%%\n"
    }
   },
   "outputs": [
    {
     "data": {
      "text/plain": "<Figure size 432x288 with 1 Axes>",
      "image/png": "[encoded data removed]"
     },
     "metadata": {
      "needs_background": "light"
     },
     "output_type": "display_data"
    }
   ],
   "source": [
    "# fnl_bbox.append(fnl_bbox[0])\n",
    "# plt.plot(*zip(*fnl_bbox))\n",
    "plt.plot(*intersection.exterior.xy)\n",
    "# print(fnl_box)\n",
    "plt.plot(*zip(*fnl_box))\n",
    "# plt.plot(*bgd.exterior.xy)\n",
    "plt.show()"
   ]
  },
  {
   "cell_type": "code",
   "execution_count": null,
   "id": "795f34e3-7ac6-4b18-b0a7-83a0ce4f1470",
   "metadata": {
    "pycharm": {
     "name": "#%%\n"
    }
   },
   "outputs": [],
   "source": []
  },
  {
   "cell_type": "code",
   "execution_count": null,
   "id": "eb17d09f-5db7-4ed7-b18e-4a4b1948540e",
   "metadata": {
    "pycharm": {
     "name": "#%%\n"
    }
   },
   "outputs": [],
   "source": []
  }
 ],
 "metadata": {
  "kernelspec": {
   "display_name": "Python 3 (ipykernel)",
   "language": "python",
   "name": "python3"
  },
  "language_info": {
   "codemirror_mode": {
    "name": "ipython",
    "version": 3
   },
   "file_extension": ".py",
   "mimetype": "text/x-python",
   "name": "python",
   "nbconvert_exporter": "python",
   "pygments_lexer": "ipython3",
   "version": "3.10.5"
  }
 },
 "nbformat": 4,
 "nbformat_minor": 5
}