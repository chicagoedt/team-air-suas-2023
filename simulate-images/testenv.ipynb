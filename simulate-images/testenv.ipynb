{
 "cells": [
  {
   "cell_type": "code",
   "execution_count": 8,
   "outputs": [
    {
     "name": "stdout",
     "output_type": "stream",
     "text": [
      "[7324, -2197]\n",
      "POLYGON ((7324 -2197, 11356 -2197, 11356 -5237, 7324 -5237, 7324 -2197))\n",
      "[3619, -2167]\n",
      "POLYGON ((3619 -2167, 7651 -2167, 7651 -5207, 3619 -5207, 3619 -2167))\n",
      "pog\n",
      "(3619.0, -2167.0) (7651.0, -2167.0) (7651.0, -5207.0) (3619.0, -5207.0) (3619.0, -2167.0)\n",
      "(3619.0, -2707.6385911179173) (6850.0, -2800.0) (6800.0, -3600.0) (3619.0, -3519.1819105691056) (3619.0, -2707.6385911179173)\n"
     ]
    },
    {
     "data": {
      "text/plain": "<Figure size 432x288 with 1 Axes>",
      "image/png": "[encoded data removed]"
     },
     "metadata": {
      "needs_background": "light"
     },
     "output_type": "display_data"
    },
    {
     "name": "stdout",
     "output_type": "stream",
     "text": [
      "0\n",
      "(3619.0, -2167.0) (7651.0, -2167.0) (7651.0, -5207.0) (3619.0, -5207.0) (3619.0, -2167.0)\n"
     ]
    }
   ],
   "source": [
    "from PIL import Image, ImageDraw, ImageOps\n",
    "import math\n",
    "from pain import gen_valid_cam, gen_valid_tar\n",
    "import numpy as np\n",
    "import random\n",
    "from PIL import ImageTransform\n",
    "from shapely.geometry import Point, LineString\n",
    "from shapely.geometry.polygon import Polygon\n",
    "from shapely import affinity\n",
    "import matplotlib.pyplot as plt\n",
    "import os\n",
    "img = Image.open(\"target_images/circle,Orange,O,Purple.png\")\n",
    "img\n",
    "bgd_img = Image.open(\"master_background.png\")\n",
    "cam, intersection, bgd, rot = gen_valid_cam()\n",
    "# print(gen_valid_cam())\n",
    "print(rot)\n",
    "print(*cam.exterior.coords)"
   ],
   "metadata": {
    "collapsed": false,
    "pycharm": {
     "name": "#%%\n"
    }
   }
  },
  {
   "cell_type": "code",
   "execution_count": 9,
   "outputs": [
    {
     "name": "stdout",
     "output_type": "stream",
     "text": [
      "[3619. 2167. 7651. 2167. 7651. 5207. 3619. 5207. 3619. 2167.]\n"
     ]
    },
    {
     "data": {
      "text/plain": "<Figure size 432x288 with 1 Axes>",
      "image/png": "[encoded data removed]"
     },
     "metadata": {
      "needs_background": "light"
     },
     "output_type": "display_data"
    }
   ],
   "source": [
    "\n",
    "plt.plot(*cam.exterior.xy)\n",
    "plt.plot(*intersection.exterior.xy)\n",
    "# bgd = Polygon(([0, 0], [bgd_img.width, 0], [bgd_img.width, bgd_img.height], [0, bgd_img.height]))\n",
    "plt.plot(*bgd.exterior.xy)\n",
    "cam_fnl = affinity.scale(cam,yfact=-1, origin=(0,0))\n",
    "cam_fnl_xy = np.ravel(cam_fnl.exterior.coords)\n",
    "print(cam_fnl_xy)\n",
    "master_test = ImageDraw.Draw(bgd_img)\n",
    "for i in range(len((cam_fnl).exterior.coords)-2):\n",
    "    master_test.line(((cam_fnl).exterior.coords[i] + (cam_fnl).exterior.coords[i+1]), fill=\"Purple\", width=3)\n",
    "bgd_img.save(\"master_images/test.png\")\n",
    "test = bgd_img.transform((4032,3040),ImageTransform.QuadTransform(cam_fnl_xy))\n",
    "test.show()"
   ],
   "metadata": {
    "collapsed": false,
    "pycharm": {
     "name": "#%%\n"
    }
   }
  },
  {
   "cell_type": "code",
   "execution_count": 12,
   "outputs": [
    {
     "data": {
      "text/plain": "[<matplotlib.lines.Line2D at 0x1284e857fa0>]"
     },
     "execution_count": 12,
     "metadata": {},
     "output_type": "execute_result"
    },
    {
     "data": {
      "text/plain": "<Figure size 432x288 with 1 Axes>",
      "image/png": "[encoded data removed]"
     },
     "metadata": {
      "needs_background": "light"
     },
     "output_type": "display_data"
    }
   ],
   "source": [
    "inter_trans = affinity.translate(intersection,-1*cam.exterior.coords[0][0],-1*cam.exterior.coords[0][1])\n",
    "cam_trans = affinity.translate(cam,-1*cam.exterior.coords[0][0],-1*cam.exterior.coords[0][1])\n",
    "inter_rot = affinity.rotate(inter_trans,-1*(rot+90),(0,0))\n",
    "cam_rot = affinity.rotate(cam_trans,-1*(rot+90),(0,0))\n",
    "\n",
    "cam_flip = affinity.scale(cam_rot,yfact=-1,xfact=-1, origin=\"centroid\")\n",
    "inter_flip = affinity.scale(inter_rot,yfact=-1,xfact=-1, origin=(cam_rot.centroid))\n",
    "\n",
    "\n",
    "cam_fnl = affinity.scale(cam_flip,yfact=-1, origin=(0,0))\n",
    "\n",
    "inter_fnl = affinity.scale(inter_flip,yfact=-1,xfact=-1, origin=(0,0))\n",
    "minx, miny, maxx, maxy = cam_fnl.bounds\n",
    "# cam_line = LineString([(minx,maxy),(maxx,miny)])\n",
    "# cam_fnl2 = cam_fnl.reflect()\n",
    "# cam_fnl2 = affinity.scale(cam_fnl,yfact=-1, xfact=-1, origin=(cam_fnl.centroid))\n",
    "# inter_fnl2 = affinity.scale(inter_fnl,yfact=-1,xfact=-1, origin=(cam_fnl.centroid))\n",
    "\n",
    "#\n",
    "# inter_fnl = affinity.translate(inter_flip,yoff=3040)\n",
    "# cam_fnl = affinity.translate(cam_flip,yoff=3040)\n",
    "\n",
    "\n",
    "# intersection = affinity.translate(intersection,yoff=-1*cam.exterior.coords[1][1])\n",
    "# cam = affinity.translate(cam,yoff=-1*cam.exterior.coords[1][1])\n",
    "\n",
    "# cam = affinity.translate(cam,-1*cam.exterior.coords[0][0],-1*cam.exterior.coords[0][1])\n",
    "\n",
    "\n",
    "# plt.plot(*cam_trans.exterior.xy)\n",
    "# plt.plot(*inter_trans.exterior.xy)\n",
    "#\n",
    "plt.plot(*cam_rot.exterior.xy)\n",
    "plt.plot(*inter_rot.exterior.xy)\n",
    "#\n",
    "plt.plot(*cam_flip.exterior.xy)\n",
    "plt.plot(*inter_flip.exterior.xy)\n",
    "\n",
    "plt.plot(*cam_fnl.exterior.xy)\n",
    "plt.plot(*inter_fnl.exterior.xy)\n",
    "\n",
    "# plt.plot(*cam_fnl2.exterior.xy)\n",
    "# plt.plot(*inter_fnl2.exterior.xy)\n",
    "# plt.plot(*bgd.exterior.xy)"
   ],
   "metadata": {
    "collapsed": false,
    "pycharm": {
     "name": "#%%\n"
    }
   }
  },
  {
   "cell_type": "code",
   "execution_count": 13,
   "outputs": [],
   "source": [
    "test2 = ImageDraw.Draw(test)\n",
    "for i in range(len((inter_fnl).exterior.coords)-1):\n",
    "    test2.line(((inter_fnl).exterior.coords[i] + (inter_fnl).exterior.coords[i+1]), fill=\"Purple\", width=3)\n",
    "test.save(\"final_images/test_{}.png\".format(\"test\"))\n",
    "test.show()"
   ],
   "metadata": {
    "collapsed": false,
    "pycharm": {
     "name": "#%%\n"
    }
   }
  },
  {
   "cell_type": "markdown",
   "source": [],
   "metadata": {
    "collapsed": false,
    "pycharm": {
     "name": "#%% md\n"
    }
   }
  },
  {
   "cell_type": "code",
   "execution_count": null,
   "outputs": [],
   "source": [
    "target = Image.open(\"target_images/cross,Blue,Q,Yellow.png\")\n",
    "tar_poly, rot_box = gen_valid_tar(intersection,target)\n",
    "# print(gen_valid_tar(intersection,target))\n",
    "tar_poly = affinity.translate(tar_poly,yoff=4032)\n",
    "plt.plot(*(tar_poly.envelope).exterior.xy)\n",
    "plt.plot(*(tar_poly).exterior.xy)\n",
    "plt.plot(*intersection.exterior.xy)\n",
    "plt.show()"
   ],
   "metadata": {
    "collapsed": false,
    "pycharm": {
     "name": "#%%\n"
    }
   }
  },
  {
   "cell_type": "code",
   "execution_count": null,
   "id": "eb17d09f-5db7-4ed7-b18e-4a4b1948540e",
   "metadata": {
    "pycharm": {
     "name": "#%%\n"
    }
   },
   "outputs": [],
   "source": []
  }
 ],
 "metadata": {
  "kernelspec": {
   "display_name": "Python 3 (ipykernel)",
   "language": "python",
   "name": "python3"
  },
  "language_info": {
   "codemirror_mode": {
    "name": "ipython",
    "version": 3
   },
   "file_extension": ".py",
   "mimetype": "text/x-python",
   "name": "python",
   "nbconvert_exporter": "python",
   "pygments_lexer": "ipython3",
   "version": "3.10.5"
  }
 },
 "nbformat": 4,
 "nbformat_minor": 5
}