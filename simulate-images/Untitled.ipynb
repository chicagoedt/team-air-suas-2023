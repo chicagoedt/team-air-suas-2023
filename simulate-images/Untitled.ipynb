{
 "cells": [
  {
   "cell_type": "code",
   "execution_count": 47,
   "id": "3ff27a59-8970-43be-9499-8300c6841904",
   "metadata": {},
   "outputs": [],
   "source": [
    "from PIL import Image, ImageDraw\n",
    "import math\n",
    "import numpy as np\n",
    "import random"
   ]
  },
  {
   "cell_type": "code",
   "execution_count": 45,
   "id": "3ab1140b-38e6-4d69-9b4c-8e52c362467f",
   "metadata": {},
   "outputs": [],
   "source": [
    "img = Image.open(\"target_images/cross,Blue,Q,Yellow.png\")\n",
    "img\n",
    "bgd_img = Image.open(\"master_background.png\")"
   ]
  },
  {
   "cell_type": "code",
   "execution_count": 38,
   "id": "af6a8f3f-025a-4d46-b33a-bf922061928d",
   "metadata": {},
   "outputs": [
    {
     "name": "stdout",
     "output_type": "stream",
     "text": [
      "60\n"
     ]
    }
   ],
   "source": [
    "theta = random.randint(0,90)\n",
    "theta_rad = math.radians(theta)\n",
    "bbox = [0,0,0,0]\n",
    "bbox[0] = math.sin(theta_rad)*26\n",
    "bbox[1] = math.cos(theta_rad)*26\n",
    "bbox[2] = math.cos(theta_rad)*34\n",
    "bbox[3] = math.sin(theta_rad)*34\n",
    "\n",
    "print(theta)"
   ]
  },
  {
   "cell_type": "code",
   "execution_count": 46,
   "id": "7ad1e876-2f5d-4efd-848d-2b9c17c6c6b9",
   "metadata": {},
   "outputs": [
    {
     "name": "stdout",
     "output_type": "stream",
     "text": [
      "(44, 40)\n",
      "(10681, 11924)\n"
     ]
    },
    {
     "data": {
      "image/png": "[encoded data removed]",
      "text/plain": [
       "<PIL.Image.Image image mode=RGBA size=44x40>"
      ]
     },
     "execution_count": 46,
     "metadata": {},
     "output_type": "execute_result"
    }
   ],
   "source": [
    "rot_img = img.rotate(theta,expand=True,fillcolor=\"Red\")\n",
    "print(rot_img.size)\n",
    "print(bgd_rot_img.size)\n",
    "rot_img.save(\"test.png\")\n",
    "bgd_rot_img.show()\n",
    "rot_img"
   ]
  },
  {
   "cell_type": "code",
   "execution_count": 18,
   "id": "86f342b1-e9e0-488b-a83d-85f645c2b1b1",
   "metadata": {},
   "outputs": [],
   "source": [
    "drw_img = ImageDraw.Draw(rot_img)\n",
    "drw_img.point([0,tl],fill=\"Green\")\n",
    "drw_img.point([tr,0],fill=\"Blue\")\n",
    "drw_img.point([rot_img.width-1,br],fill=\"Yellow\")\n",
    "drw_img.point([bl,rot_img.height-1],fill=\"Purple\")\n",
    "rot_img.save(\"test.png\")\n",
    "rot_img.show()"
   ]
  },
  {
   "cell_type": "code",
   "execution_count": 108,
   "id": "75d585ad-a4b6-4a37-b27a-f555d60cf09c",
   "metadata": {},
   "outputs": [
    {
     "ename": "SyntaxError",
     "evalue": "positional argument follows keyword argument (47583509.py, line 2)",
     "output_type": "error",
     "traceback": [
      "\u001b[1;36m  Input \u001b[1;32mIn [108]\u001b[1;36m\u001b[0m\n\u001b[1;33m    pog = bgd_rot_img.transform((200,100),method=3, (0,0,200,0,200,100,0,100))\u001b[0m\n\u001b[1;37m                                                                             ^\u001b[0m\n\u001b[1;31mSyntaxError\u001b[0m\u001b[1;31m:\u001b[0m positional argument follows keyword argument\n"
     ]
    }
   ],
   "source": [
    "from PIL import ImageTransform\n",
    "pog = bgd_rot_img.transform((200,100),(0,0,200,0,200,100,0,100))\n",
    "pog.show()"
   ]
  },
  {
   "cell_type": "code",
   "execution_count": 109,
   "id": "f189ca65-e102-46e5-b44f-f0d4835a6148",
   "metadata": {},
   "outputs": [
    {
     "ename": "AttributeError",
     "evalue": "module 'numpy' has no attribute 'flatten'",
     "output_type": "error",
     "traceback": [
      "\u001b[1;31m---------------------------------------------------------------------------\u001b[0m",
      "\u001b[1;31mAttributeError\u001b[0m                            Traceback (most recent call last)",
      "Input \u001b[1;32mIn [109]\u001b[0m, in \u001b[0;36m<cell line: 2>\u001b[1;34m()\u001b[0m\n\u001b[0;32m      1\u001b[0m lis \u001b[38;5;241m=\u001b[39m [\u001b[38;5;241m0\u001b[39m,[\u001b[38;5;241m0\u001b[39m,\u001b[38;5;241m0\u001b[39m]]\n\u001b[1;32m----> 2\u001b[0m \u001b[43mnp\u001b[49m\u001b[38;5;241;43m.\u001b[39;49m\u001b[43mflatten\u001b[49m(lis)\n",
      "File \u001b[1;32mC:\\Python310\\lib\\site-packages\\numpy\\__init__.py:311\u001b[0m, in \u001b[0;36m__getattr__\u001b[1;34m(attr)\u001b[0m\n\u001b[0;32m    308\u001b[0m     \u001b[38;5;28;01mfrom\u001b[39;00m \u001b[38;5;21;01m.\u001b[39;00m\u001b[38;5;21;01mtesting\u001b[39;00m \u001b[38;5;28;01mimport\u001b[39;00m Tester\n\u001b[0;32m    309\u001b[0m     \u001b[38;5;28;01mreturn\u001b[39;00m Tester\n\u001b[1;32m--> 311\u001b[0m \u001b[38;5;28;01mraise\u001b[39;00m \u001b[38;5;167;01mAttributeError\u001b[39;00m(\u001b[38;5;124m\"\u001b[39m\u001b[38;5;124mmodule \u001b[39m\u001b[38;5;132;01m{!r}\u001b[39;00m\u001b[38;5;124m has no attribute \u001b[39m\u001b[38;5;124m\"\u001b[39m\n\u001b[0;32m    312\u001b[0m                      \u001b[38;5;124m\"\u001b[39m\u001b[38;5;132;01m{!r}\u001b[39;00m\u001b[38;5;124m\"\u001b[39m\u001b[38;5;241m.\u001b[39mformat(\u001b[38;5;18m__name__\u001b[39m, attr))\n",
      "\u001b[1;31mAttributeError\u001b[0m: module 'numpy' has no attribute 'flatten'"
     ]
    }
   ],
   "source": [
    "lis = [0,[0,0]]\n",
    "np.flatten(lis)"
   ]
  },
  {
   "cell_type": "code",
   "execution_count": 105,
   "id": "c21fe13d-d6dd-4f2d-9aea-6d649e06a82e",
   "metadata": {},
   "outputs": [
    {
     "name": "stdout",
     "output_type": "stream",
     "text": [
      "[5300, 1340]\n",
      "True\n",
      "True\n",
      "True\n",
      "True\n",
      "welp\n",
      "False\n",
      "[array([5300., 1340.]), array([9282.35938928,  709.25623696]), array([9757.920163  , 3711.82879237]), array([5775.56077372, 4342.57255541])]\n",
      "[6295, 2233]\n",
      "True\n",
      "True\n",
      "False\n",
      "[array([6295., 2233.]), array([2482.66910318,  920.30920123])]\n",
      "[4327, 3170]\n",
      "True\n",
      "False\n",
      "[array([4327., 3170.])]\n",
      "[6902, 2799]\n",
      "True\n",
      "False\n",
      "[array([6902., 2799.])]\n",
      "[7925, 5729]\n",
      "True\n",
      "True\n",
      "True\n",
      "True\n",
      "pog\n",
      "True\n",
      "[array([7925., 5729.]), array([3996.33989879, 4821.99734889]), array([4680.19110399, 1859.91235194]), array([8608.85120521, 2766.91500305])]\n"
     ]
    }
   ],
   "source": [
    "width = 10000\n",
    "height = 7000\n",
    "valid = False\n",
    "target = Polygon([[5067, 3567], [5088, 3552], [5108, 3579], [5086, 3595]])\n",
    "while valid == False:\n",
    "    rot = random.randint(0,359)\n",
    "    rot_tht = math.radians(rot)\n",
    "    corner = [random.randint(0,width),random.randint(0,height)]\n",
    "    print(corner)\n",
    "    box = [[0,0],[4032,0],[4032,3040],[0,3040]]\n",
    "    rot_arr = [[math.cos(rot_tht),-1*math.sin(rot_tht)],[math.sin(rot_tht),math.cos(rot_tht)]]\n",
    "    rot_box = np.dot(box,rot_arr)\n",
    "    fnl_box = []\n",
    "    for i in range(len(box)):\n",
    "        coord = np.add(rot_box[i],corner)\n",
    "        # print(coord[0])\n",
    "        # print(coord[1])\n",
    "        if 0 < coord[0] < width and 0 < coord[1] < height :\n",
    "            valid = True\n",
    "            print(valid)\n",
    "        else:\n",
    "            valid = False\n",
    "            break\n",
    "        fnl_box.append(coord)\n",
    "    if len(fnl_box) == 4:\n",
    "        cam = Polygon(fnl_box)\n",
    "        if not(cam.contains(target)):\n",
    "            valid = False\n",
    "            print(\"welp\")\n",
    "        else:\n",
    "            print(\"pog\")\n",
    "    print(valid)\n",
    "    print(fnl_box)\n",
    "    \n"
   ]
  },
  {
   "cell_type": "code",
   "execution_count": 99,
   "id": "c1b57837-99dd-45d3-86a1-ff48ca4619bc",
   "metadata": {},
   "outputs": [
    {
     "name": "stdout",
     "output_type": "stream",
     "text": [
      "True\n"
     ]
    }
   ],
   "source": [
    "from shapely.geometry import Point\n",
    "from shapely.geometry.polygon import Polygon\n",
    "\n",
    "point = Point(0.5, 0.5)\n",
    "polygon = Polygon([(0, 0), (0, 1), (1, 1), (1, 0)])\n",
    "print(polygon.contains(point))"
   ]
  },
  {
   "cell_type": "code",
   "execution_count": null,
   "id": "f9896187-f5af-4207-bcfc-3f1437f0d3c5",
   "metadata": {},
   "outputs": [],
   "source": []
  }
 ],
 "metadata": {
  "kernelspec": {
   "display_name": "Python 3 (ipykernel)",
   "language": "python",
   "name": "python3"
  },
  "language_info": {
   "codemirror_mode": {
    "name": "ipython",
    "version": 3
   },
   "file_extension": ".py",
   "mimetype": "text/x-python",
   "name": "python",
   "nbconvert_exporter": "python",
   "pygments_lexer": "ipython3",
   "version": "3.10.5"
  }
 },
 "nbformat": 4,
 "nbformat_minor": 5
}
